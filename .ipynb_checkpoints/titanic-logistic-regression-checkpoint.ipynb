{
 "cells": [
  {
   "cell_type": "markdown",
   "metadata": {},
   "source": [
    "# <center><span style=\"font-family:Comic Sans MS; color:navy\"><h4>Titanic Logistic Regression</h4></span></center>"
   ]
  },
  {
   "cell_type": "markdown",
   "metadata": {},
   "source": [
    "# <span style=\"font-family:Comic Sans MS; color:navy\"><h4>1:About DataSet</h4></span>\n",
    "- **<span style='font-family:comic Sans MS; color:navy'> Project Summary: The sinking of the RMS Titanic is one of the most infamous shipwrecks in history. On April 15, 1912, during her maiden voyage, the Titanic sank after colliding with an iceberg, killing 1502 out of 2224 passengers and crew. This sensational tragedy shocked the international community and led to better safety regulations for ships.</span>**\n",
    "\n",
    "- **<span style='font-family:comic Sans MS; color:navy'>One of the reasons that the shipwreck led to such loss of life was that there were not enough lifeboats for the passengers and crew. Although there was some element of luck involved in surviving the sinking, some groups of people were more likely to survive than others, such as women, children, and the upper-class.</span>**\n",
    "<div>\n",
    "    \n",
    "</div>\n",
    "<center>    \n",
    "<img src=\"https://t2.gstatic.com/licensed-image?q=tbn:ANd9GcScs1kCii2vJENMwTk2oDcUTmdYuuuWIa60xfevnMjHPbCMjIlb5Ssl23u7DoW_BRgc\", width=\"400\",  height=\"300\"/>\n",
    "</center>\n",
    "\n",
    "# <span style=\"font-family:Comic Sans MS; color:navy\"><h4>2: Define the Problem</h4></span>\n",
    "- **<span style='font-family:comic Sans MS; color:navy'>In this challenge, we ask you to complete the analysis of what sorts of people were likely to survive. In particular, we ask you to apply the tools of machine learning to predict which passengers survived the tragedy</span>**\n",
    "<div>\n",
    "\n",
    "</div>\n",
    "<center>    \n",
    "<img src=\"https://www.titanicuniverse.com/wp-content/uploads/2022/08/how-many-people-survived-the-titanic-featured-930x620-1.jpg\", width=\"400\",  height=\"300\"/>\n",
    "</center>\n"
   ]
  },
  {
   "cell_type": "markdown",
   "metadata": {},
   "source": [
    "# <span style=\"font-family:Comic Sans MS; color:navy\"><h4>3:Import Libraries</h4></span>"
   ]
  },
  {
   "cell_type": "code",
   "execution_count": 1,
   "metadata": {
    "execution": {
     "iopub.execute_input": "2023-02-18T00:04:06.710187Z",
     "iopub.status.busy": "2023-02-18T00:04:06.709451Z",
     "iopub.status.idle": "2023-02-18T00:04:06.731857Z",
     "shell.execute_reply": "2023-02-18T00:04:06.730638Z",
     "shell.execute_reply.started": "2023-02-18T00:04:06.710142Z"
    }
   },
   "outputs": [
    {
     "ename": "ModuleNotFoundError",
     "evalue": "No module named 'missingno'",
     "output_type": "error",
     "traceback": [
      "\u001b[1;31m---------------------------------------------------------------------------\u001b[0m",
      "\u001b[1;31mModuleNotFoundError\u001b[0m                       Traceback (most recent call last)",
      "\u001b[1;32m<ipython-input-1-9e52a45bc1b5>\u001b[0m in \u001b[0;36m<module>\u001b[1;34m\u001b[0m\n\u001b[0;32m     15\u001b[0m \u001b[1;32mimport\u001b[0m \u001b[0mmatplotlib\u001b[0m\u001b[1;33m.\u001b[0m\u001b[0mpyplot\u001b[0m \u001b[1;32mas\u001b[0m \u001b[0mplt\u001b[0m\u001b[1;33m\u001b[0m\u001b[1;33m\u001b[0m\u001b[0m\n\u001b[0;32m     16\u001b[0m \u001b[1;32mimport\u001b[0m \u001b[0mseaborn\u001b[0m \u001b[1;32mas\u001b[0m \u001b[0msns\u001b[0m\u001b[1;33m\u001b[0m\u001b[1;33m\u001b[0m\u001b[0m\n\u001b[1;32m---> 17\u001b[1;33m \u001b[1;32mimport\u001b[0m \u001b[0mmissingno\u001b[0m \u001b[1;32mas\u001b[0m \u001b[0mmsno\u001b[0m\u001b[1;33m\u001b[0m\u001b[1;33m\u001b[0m\u001b[0m\n\u001b[0m\u001b[0;32m     18\u001b[0m \u001b[1;32mimport\u001b[0m \u001b[0mplotly\u001b[0m\u001b[1;33m.\u001b[0m\u001b[0mexpress\u001b[0m \u001b[1;32mas\u001b[0m \u001b[0mpx\u001b[0m\u001b[1;33m\u001b[0m\u001b[1;33m\u001b[0m\u001b[0m\n\u001b[0;32m     19\u001b[0m \u001b[1;33m\u001b[0m\u001b[0m\n",
      "\u001b[1;31mModuleNotFoundError\u001b[0m: No module named 'missingno'"
     ]
    }
   ],
   "source": [
    "import pandas as pd # data processing, CSV file I/O (e.g. pd.read_csv)\n",
    "import numpy as np # linear algebra\n",
    "\n",
    "import os\n",
    "for dirname, _, filenames in os.walk('/kaggle/input'):\n",
    "    for filename in filenames:\n",
    "        print(os.path.join(dirname, filename))\n",
    "\n",
    "        \n",
    "# ignore warnings\n",
    "import warnings\n",
    "warnings.filterwarnings('ignore')\n",
    "\n",
    "#for graphs, visuals, etc.\n",
    "import matplotlib.pyplot as plt\n",
    "import seaborn as sns\n",
    "# import missingno as msno\n",
    "# import plotly.express as px\n",
    "\n",
    "# import cufflinks as cf\n",
    "# cf.go_offline()\n",
    "\n",
    "# for Modelling\n",
    "from sklearn.model_selection import train_test_split\n",
    "from sklearn import svm, tree, linear_model, neighbors, naive_bayes, ensemble, discriminant_analysis, gaussian_process\n",
    "from sklearn.linear_model import LogisticRegression\n",
    "from sklearn.metrics import classification_report\n",
    "from sklearn.metrics import confusion_matrix\n",
    "\n",
    "#Common Model Helpers\n",
    "from sklearn.preprocessing import OneHotEncoder, LabelEncoder\n",
    "from sklearn import feature_selection\n",
    "from sklearn import model_selection\n",
    "from sklearn import metrics\n",
    "\n",
    "#Configure Visualization Defaults\n",
    "# %matplotlib inline = show plots in Jupyter Notebook browser\n",
    "%matplotlib inline\n",
    "plt.style.use('ggplot')\n",
    "sns.set_style('white')\n"
   ]
  },
  {
   "cell_type": "markdown",
   "metadata": {},
   "source": [
    "# <span style=\"font-family:Comic Sans MS; color:navy\"><h4>4:Import Data</h4></span>\n",
    "- <span style='font-family:comic Sans MS; color:navy'>It's my first competation in Kaggle,Titanic DataSet have 3 part:\n",
    "    <ul>\n",
    "        <li>\n",
    "            <h4>train.csv:</h4> Contains the details of a subset of the passengers on board (891 passengers, to be exact -- where each passenger gets a different row in the table). To investigate this data, click on the name of the file on the left of the screen. Once you've done this, you can view all of the data in the window.\n",
    "        </li>\n",
    "        <li>\n",
    "            <h4>test.csv:</h4>\n",
    "            Using the patterns you find in train.csv, you have to predict whether the other 418 passengers on board (in test.csv) survived\n",
    "        </li>\n",
    "        <li>\n",
    "          <h4>gender_submission.csv:</h4>\n",
    "            The gender_submission.csv file is provided as an example that shows how you should structure your predictions\n",
    "        </li>\n",
    "    </ul>\n",
    "</span>"
   ]
  },
  {
   "cell_type": "code",
   "execution_count": null,
   "metadata": {
    "execution": {
     "iopub.execute_input": "2023-02-18T00:04:06.734099Z",
     "iopub.status.busy": "2023-02-18T00:04:06.733718Z",
     "iopub.status.idle": "2023-02-18T00:04:06.760562Z",
     "shell.execute_reply": "2023-02-18T00:04:06.759494Z",
     "shell.execute_reply.started": "2023-02-18T00:04:06.734066Z"
    }
   },
   "outputs": [],
   "source": [
    "# import data\n",
    "tod = pd.read_csv('/kaggle/input/titanic/train.csv')\n",
    "tod_test = pd.read_csv('/kaggle/input/titanic/test.csv')\n",
    "tod_gender = pd.read_csv('/kaggle/input/titanic/gender_submission.csv')\n",
    "tod_sum=[tod,tod_test]"
   ]
  },
  {
   "cell_type": "markdown",
   "metadata": {},
   "source": [
    "# <span style=\"font-family:Comic Sans MS; color:navy\"><h4>5:PreProccessing</h4></span>\n",
    "## <span style=\"font-family:Comic Sans MS; color:navy\"><h4>5.1:How data look</h4></span>\n",
    "\n"
   ]
  },
  {
   "cell_type": "code",
   "execution_count": null,
   "metadata": {
    "execution": {
     "iopub.execute_input": "2023-02-18T00:04:06.762375Z",
     "iopub.status.busy": "2023-02-18T00:04:06.761809Z",
     "iopub.status.idle": "2023-02-18T00:04:06.778868Z",
     "shell.execute_reply": "2023-02-18T00:04:06.778053Z",
     "shell.execute_reply.started": "2023-02-18T00:04:06.762342Z"
    }
   },
   "outputs": [],
   "source": [
    "#train data\n",
    "tod.head()"
   ]
  },
  {
   "cell_type": "code",
   "execution_count": null,
   "metadata": {
    "execution": {
     "iopub.execute_input": "2023-02-18T00:04:06.843804Z",
     "iopub.status.busy": "2023-02-18T00:04:06.843382Z",
     "iopub.status.idle": "2023-02-18T00:04:06.860511Z",
     "shell.execute_reply": "2023-02-18T00:04:06.859367Z",
     "shell.execute_reply.started": "2023-02-18T00:04:06.843768Z"
    }
   },
   "outputs": [],
   "source": [
    "# test data\n",
    "tod_test.head()"
   ]
  },
  {
   "cell_type": "code",
   "execution_count": null,
   "metadata": {
    "execution": {
     "iopub.execute_input": "2023-02-18T00:04:06.863742Z",
     "iopub.status.busy": "2023-02-18T00:04:06.863244Z",
     "iopub.status.idle": "2023-02-18T00:04:06.878816Z",
     "shell.execute_reply": "2023-02-18T00:04:06.877265Z",
     "shell.execute_reply.started": "2023-02-18T00:04:06.863697Z"
    }
   },
   "outputs": [],
   "source": [
    "# gender_submission\n",
    "tod_gender.head()"
   ]
  },
  {
   "cell_type": "markdown",
   "metadata": {},
   "source": [
    "## <span style=\"font-family:Comic Sans MS; color:navy\"><h4>5.2:Data information</h4></span>"
   ]
  },
  {
   "cell_type": "code",
   "execution_count": null,
   "metadata": {
    "execution": {
     "iopub.execute_input": "2023-02-18T00:04:06.880597Z",
     "iopub.status.busy": "2023-02-18T00:04:06.880225Z",
     "iopub.status.idle": "2023-02-18T00:04:06.897162Z",
     "shell.execute_reply": "2023-02-18T00:04:06.896278Z",
     "shell.execute_reply.started": "2023-02-18T00:04:06.880566Z"
    }
   },
   "outputs": [],
   "source": [
    "# Columns\n",
    "tod.columns"
   ]
  },
  {
   "cell_type": "code",
   "execution_count": null,
   "metadata": {
    "execution": {
     "iopub.execute_input": "2023-02-18T00:04:06.898376Z",
     "iopub.status.busy": "2023-02-18T00:04:06.898057Z",
     "iopub.status.idle": "2023-02-18T00:04:06.917521Z",
     "shell.execute_reply": "2023-02-18T00:04:06.916187Z",
     "shell.execute_reply.started": "2023-02-18T00:04:06.898347Z"
    }
   },
   "outputs": [],
   "source": [
    "tod.info()"
   ]
  },
  {
   "cell_type": "code",
   "execution_count": null,
   "metadata": {
    "execution": {
     "iopub.execute_input": "2023-02-18T00:04:06.921031Z",
     "iopub.status.busy": "2023-02-18T00:04:06.920321Z",
     "iopub.status.idle": "2023-02-18T00:04:06.957568Z",
     "shell.execute_reply": "2023-02-18T00:04:06.956459Z",
     "shell.execute_reply.started": "2023-02-18T00:04:06.920966Z"
    }
   },
   "outputs": [],
   "source": [
    "tod.describe()"
   ]
  },
  {
   "cell_type": "markdown",
   "metadata": {},
   "source": [
    "## <span style=\"font-family:Comic Sans MS; color:navy\"><h4>5.3:Data Cleaning</h4></span>\n",
    "### <span style=\"font-family:Comic Sans MS; color:navy\"><h4>5.3.1:Correcting</h4></span>\n",
    "- **<span style='font-family:comic Sans MS; color:navy'>correcting aberrant values and outliers</span>**"
   ]
  },
  {
   "cell_type": "code",
   "execution_count": null,
   "metadata": {
    "execution": {
     "iopub.execute_input": "2023-02-18T00:04:06.959882Z",
     "iopub.status.busy": "2023-02-18T00:04:06.959422Z",
     "iopub.status.idle": "2023-02-18T00:04:06.967752Z",
     "shell.execute_reply": "2023-02-18T00:04:06.966310Z",
     "shell.execute_reply.started": "2023-02-18T00:04:06.959838Z"
    }
   },
   "outputs": [],
   "source": [
    "# Fare outliers from train\n",
    "# outliers_fare = tod['Fare'].max()\n",
    "# tod['Fare'][tod['Fare']==outliers_fare]\n",
    "tod.drop([258,679,737],axis=0,inplace=True)\n",
    "# Fare outliers from test\n",
    "# outliers_fare = tod_test['Fare'].max()\n",
    "# tod_test['Fare'][tod_test['Fare']==outliers_fare]\n",
    "# tod_test.drop(343,axis=0,inplace=True)"
   ]
  },
  {
   "cell_type": "code",
   "execution_count": null,
   "metadata": {
    "execution": {
     "iopub.execute_input": "2023-02-18T00:04:06.969796Z",
     "iopub.status.busy": "2023-02-18T00:04:06.969212Z",
     "iopub.status.idle": "2023-02-18T00:04:06.981440Z",
     "shell.execute_reply": "2023-02-18T00:04:06.980567Z",
     "shell.execute_reply.started": "2023-02-18T00:04:06.969762Z"
    }
   },
   "outputs": [],
   "source": [
    "# SibSp outliers for train\n",
    "# outliers_parch = tod['SibSp'].max()\n",
    "# tod['SibSp'][tod['SibSp']==outliers_parch]\n",
    "tod.drop([188,360],axis=0,inplace=True)"
   ]
  },
  {
   "cell_type": "code",
   "execution_count": null,
   "metadata": {
    "execution": {
     "iopub.execute_input": "2023-02-18T00:04:07.011348Z",
     "iopub.status.busy": "2023-02-18T00:04:07.010554Z",
     "iopub.status.idle": "2023-02-18T00:04:07.019554Z",
     "shell.execute_reply": "2023-02-18T00:04:07.018410Z",
     "shell.execute_reply.started": "2023-02-18T00:04:07.011295Z"
    }
   },
   "outputs": [],
   "source": [
    "# SibSp outliers for train\n",
    "# outliers_parch = tod['Parch'].max()\n",
    "# tod['Parch'][tod['Parch']==outliers_parch]\n",
    "tod.drop(678,axis=0,inplace=True)\n",
    "# SibSp outliers for test\n",
    "# outliers_parch = tod_test['Parch'].max()\n",
    "# tod_test['Parch'][tod_test['Parch']==outliers_parch]\n",
    "# tod_test.drop([342,365],axis=0,inplace=True)"
   ]
  },
  {
   "cell_type": "markdown",
   "metadata": {},
   "source": [
    "### <span style=\"font-family:Comic Sans MS; color:navy\"><h4>5.3.2:Completing</h4></span>\n",
    "- **<span style='font-family:comic Sans MS; color:navy'>completing missing information</span>**"
   ]
  },
  {
   "cell_type": "code",
   "execution_count": null,
   "metadata": {
    "execution": {
     "iopub.execute_input": "2023-02-18T00:04:07.025823Z",
     "iopub.status.busy": "2023-02-18T00:04:07.024537Z",
     "iopub.status.idle": "2023-02-18T00:04:07.288530Z",
     "shell.execute_reply": "2023-02-18T00:04:07.287186Z",
     "shell.execute_reply.started": "2023-02-18T00:04:07.025777Z"
    }
   },
   "outputs": [],
   "source": [
    "sns.heatmap(tod.isnull(),yticklabels=False,cbar=False,cmap='viridis')\n",
    "plt.show()"
   ]
  },
  {
   "cell_type": "code",
   "execution_count": null,
   "metadata": {
    "execution": {
     "iopub.execute_input": "2023-02-18T00:04:07.290937Z",
     "iopub.status.busy": "2023-02-18T00:04:07.290510Z",
     "iopub.status.idle": "2023-02-18T00:04:07.301265Z",
     "shell.execute_reply": "2023-02-18T00:04:07.300203Z",
     "shell.execute_reply.started": "2023-02-18T00:04:07.290905Z"
    }
   },
   "outputs": [],
   "source": [
    "print('Train data with null:\\n',tod.isnull().sum())\n",
    "print('_--'*20)\n",
    "print('test data with null:\\n\\n',tod_test.isnull().sum())"
   ]
  },
  {
   "cell_type": "markdown",
   "metadata": {},
   "source": [
    "- **<span style='font-family:comic Sans MS; color:navy'>Now we fill or drop the columns:</span>**"
   ]
  },
  {
   "cell_type": "code",
   "execution_count": null,
   "metadata": {
    "execution": {
     "iopub.execute_input": "2023-02-18T00:04:07.303395Z",
     "iopub.status.busy": "2023-02-18T00:04:07.303057Z",
     "iopub.status.idle": "2023-02-18T00:04:07.324062Z",
     "shell.execute_reply": "2023-02-18T00:04:07.322959Z",
     "shell.execute_reply.started": "2023-02-18T00:04:07.303348Z"
    }
   },
   "outputs": [],
   "source": [
    "for x in tod_sum:    \n",
    "    #complete with median\n",
    "    x['Age'].fillna(x['Age'].median(), inplace = True)\n",
    "\n",
    "    #complete with mode\n",
    "    x['Embarked'].fillna(x['Embarked'].mode()[0], inplace = True)\n",
    "\n",
    "    #complete median\n",
    "    x['Fare'].fillna(x['Fare'].median(), inplace = True)\n",
    "\n",
    "#delete the cabin feature/column and others previously stated to exclude in train dataset\n",
    "dropC = ['PassengerId','Cabin', 'Ticket']\n",
    "tod.drop(dropC, axis=1, inplace = True)\n",
    "tod_test.drop(dropC,axis=1,inplace = True)\n",
    "# Cabin column has a lot of missing values, we will use the availble values to create a new feature and will drop Cabin"
   ]
  },
  {
   "cell_type": "code",
   "execution_count": null,
   "metadata": {
    "execution": {
     "iopub.execute_input": "2023-02-18T00:04:07.327064Z",
     "iopub.status.busy": "2023-02-18T00:04:07.326727Z",
     "iopub.status.idle": "2023-02-18T00:04:07.352956Z",
     "shell.execute_reply": "2023-02-18T00:04:07.350950Z",
     "shell.execute_reply.started": "2023-02-18T00:04:07.327035Z"
    }
   },
   "outputs": [],
   "source": [
    "# check again for missing value\n",
    "print('Train columns with null values: \\n', tod.isnull().sum())\n",
    "print(\"_--\"*20)\n",
    "print (tod.info())\n",
    "\n",
    "print(\"_--\"*20)\n",
    "\n",
    "print('Test/Validation columns with null values: \\n', tod_test.isnull().sum())\n",
    "print(\"_--\"*20)\n",
    "print (tod_test.info())\n"
   ]
  },
  {
   "cell_type": "markdown",
   "metadata": {},
   "source": [
    "# <span style=\"font-family:Comic Sans MS; color:navy\"><h4>6:Exploratory Data Analysis</h4></span>"
   ]
  },
  {
   "cell_type": "markdown",
   "metadata": {},
   "source": [
    "### <span style=\"font-family:Comic Sans MS; color:navy\"><h6>The meaning of the words in the columns</h6></span>\n",
    "- <span style='font-family:comic Sans MS; color:navy'>survival - Survival (0 = No; 1 = Yes)</span>\n",
    "- <span style='font-family:comic Sans MS; color:navy'>class - Passenger Class (1 = 1st; 2 = 2nd; 3 = 3rd)</span>\n",
    "- <span style='font-family:comic Sans MS; color:navy'>name - Name</span>\n",
    "- <span style='font-family:comic Sans MS; color:navy'>sex - Sex</span>\n",
    "- <span style='font-family:comic Sans MS; color:navy'>age - Age</span>\n",
    "- <span style='font-family:comic Sans MS; color:navy'>sibsp - Number of Siblings/Spouses Aboard</span>\n",
    "- <span style='font-family:comic Sans MS; color:navy'>parch - Number of Parents/Children Aboard</span>\n",
    "- <span style='font-family:comic Sans MS; color:navy'>ticket - Ticket Number</span>\n",
    "- <span style='font-family:comic Sans MS; color:navy'>fare - Passenger Fare</span>\n",
    "- <span style='font-family:comic Sans MS; color:navy'>cabin - Cabin</span>\n",
    "- <span style='font-family:comic Sans MS; color:navy'>embarked - Port of Embarkation (C = Cherbourg; Q = Queenstown; S = Southampton)</span>\n",
    "- <span style='font-family:comic Sans MS; color:navy'>boat - Lifeboat (if survived)</span>\n",
    "- <span style='font-family:comic Sans MS; color:navy'>body - Body number (if did not survive and body was recovered)</span>\n",
    "\n",
    "\n",
    "\n",
    "\n",
    "\n",
    "\n",
    "\n",
    "\n",
    "\n",
    "\n",
    "\n",
    "\n",
    "\n",
    "\n",
    "\n",
    "\n"
   ]
  },
  {
   "cell_type": "markdown",
   "metadata": {},
   "source": [
    "###  <span style='font-family:comic Sans MS; color:navy'>How many people survive:</span>"
   ]
  },
  {
   "cell_type": "code",
   "execution_count": null,
   "metadata": {
    "execution": {
     "iopub.execute_input": "2023-02-18T00:04:07.354779Z",
     "iopub.status.busy": "2023-02-18T00:04:07.354474Z",
     "iopub.status.idle": "2023-02-18T00:04:07.561602Z",
     "shell.execute_reply": "2023-02-18T00:04:07.560335Z",
     "shell.execute_reply.started": "2023-02-18T00:04:07.354750Z"
    }
   },
   "outputs": [],
   "source": [
    "plt.figure(figsize=(8,6))\n",
    "sns.set_palette('Set2')\n",
    "sns.countplot(x=tod['Survived'])\n",
    "sns.set_style('whitegrid')\n",
    "plt.xticks([0,1],['die','Survive'])\n",
    "plt.title('How many people survive')\n",
    "plt.show()"
   ]
  },
  {
   "cell_type": "markdown",
   "metadata": {},
   "source": [
    "###  <span style='font-family:comic Sans MS; color:navy'>Passenger Class:</span>\n",
    "<div>\n",
    "<div>"
   ]
  },
  {
   "cell_type": "code",
   "execution_count": null,
   "metadata": {
    "execution": {
     "iopub.execute_input": "2023-02-18T00:04:07.563631Z",
     "iopub.status.busy": "2023-02-18T00:04:07.563174Z",
     "iopub.status.idle": "2023-02-18T00:04:07.785436Z",
     "shell.execute_reply": "2023-02-18T00:04:07.784215Z",
     "shell.execute_reply.started": "2023-02-18T00:04:07.563596Z"
    }
   },
   "outputs": [],
   "source": [
    "plt.figure(figsize=(8,6))\n",
    "sns.countplot(x=tod['Pclass'])\n",
    "sns.set_style('whitegrid')\n",
    "plt.xticks([0,1,2],['1st','2nd','3rd'])\n",
    "plt.title('Passenger Class')\n",
    "plt.show()"
   ]
  },
  {
   "cell_type": "markdown",
   "metadata": {},
   "source": [
    "###  <span style='font-family:comic Sans MS; color:navy'>How many passengers were men and how many were women:</span>\n",
    "<div>"
   ]
  },
  {
   "cell_type": "code",
   "execution_count": null,
   "metadata": {
    "execution": {
     "iopub.execute_input": "2023-02-18T00:04:07.787509Z",
     "iopub.status.busy": "2023-02-18T00:04:07.786907Z",
     "iopub.status.idle": "2023-02-18T00:04:08.000994Z",
     "shell.execute_reply": "2023-02-18T00:04:07.999564Z",
     "shell.execute_reply.started": "2023-02-18T00:04:07.787474Z"
    }
   },
   "outputs": [],
   "source": [
    "plt.figure(figsize=(8,6))\n",
    "sns.set_style('whitegrid')\n",
    "sns.countplot(x=tod['Sex'])\n",
    "plt.title(\"Men VS Women\")\n",
    "plt.show()"
   ]
  },
  {
   "cell_type": "markdown",
   "metadata": {},
   "source": [
    "###  <span style='font-family:comic Sans MS; color:navy'>Age category of ship passengers:</span>\n",
    "<div>"
   ]
  },
  {
   "cell_type": "code",
   "execution_count": null,
   "metadata": {
    "execution": {
     "iopub.execute_input": "2023-02-18T00:04:08.004728Z",
     "iopub.status.busy": "2023-02-18T00:04:08.003775Z",
     "iopub.status.idle": "2023-02-18T00:04:08.329800Z",
     "shell.execute_reply": "2023-02-18T00:04:08.328582Z",
     "shell.execute_reply.started": "2023-02-18T00:04:08.004679Z"
    }
   },
   "outputs": [],
   "source": [
    "plt.figure(figsize=(8,6))\n",
    "sns.set_style('whitegrid')\n",
    "sns.distplot(tod['Age'],kde=True,bins=30)\n",
    "plt.title(\"Age ditribution\")\n",
    "plt.show()"
   ]
  },
  {
   "cell_type": "markdown",
   "metadata": {},
   "source": [
    "<span style='font-family:comic Sans MS; color:navy'>According to the graph, it can be said that a large number of passengers were between 20 and 40 years old</span>\n",
    "<div>"
   ]
  },
  {
   "cell_type": "markdown",
   "metadata": {},
   "source": [
    "###  <span style='font-family:comic Sans MS; color:navy'>Number of Siblings/Spouses Aboard:</span>\n",
    "<div>"
   ]
  },
  {
   "cell_type": "code",
   "execution_count": null,
   "metadata": {
    "execution": {
     "iopub.execute_input": "2023-02-18T00:04:08.331752Z",
     "iopub.status.busy": "2023-02-18T00:04:08.331365Z",
     "iopub.status.idle": "2023-02-18T00:04:08.673778Z",
     "shell.execute_reply": "2023-02-18T00:04:08.672775Z",
     "shell.execute_reply.started": "2023-02-18T00:04:08.331720Z"
    }
   },
   "outputs": [],
   "source": [
    "plt.figure(figsize=(8,6))\n",
    "sns.set_style('whitegrid')\n",
    "sns.distplot(tod['SibSp'],kde=True)\n",
    "plt.title(\"Siblings/Spouses\")\n",
    "plt.show()"
   ]
  },
  {
   "cell_type": "markdown",
   "metadata": {},
   "source": [
    "###  <span style='font-family:comic Sans MS; color:navy'>Number of Parents/Children Aboard:</span>\n",
    "<div>"
   ]
  },
  {
   "cell_type": "code",
   "execution_count": null,
   "metadata": {
    "execution": {
     "iopub.execute_input": "2023-02-18T00:04:08.679936Z",
     "iopub.status.busy": "2023-02-18T00:04:08.679587Z",
     "iopub.status.idle": "2023-02-18T00:04:09.004236Z",
     "shell.execute_reply": "2023-02-18T00:04:09.003192Z",
     "shell.execute_reply.started": "2023-02-18T00:04:08.679905Z"
    }
   },
   "outputs": [],
   "source": [
    "plt.figure(figsize=(8,6))\n",
    "sns.set_style('whitegrid')\n",
    "sns.distplot(tod['Parch'])\n",
    "plt.title('Parent/Children')\n",
    "plt.show()"
   ]
  },
  {
   "cell_type": "markdown",
   "metadata": {},
   "source": [
    "###  <span style='font-family:comic Sans MS; color:navy'>Passenger Fare:</span>\n",
    "<div>"
   ]
  },
  {
   "cell_type": "code",
   "execution_count": null,
   "metadata": {
    "execution": {
     "iopub.execute_input": "2023-02-18T00:04:09.005726Z",
     "iopub.status.busy": "2023-02-18T00:04:09.005397Z",
     "iopub.status.idle": "2023-02-18T00:04:25.167661Z",
     "shell.execute_reply": "2023-02-18T00:04:25.166087Z",
     "shell.execute_reply.started": "2023-02-18T00:04:09.005695Z"
    }
   },
   "outputs": [],
   "source": [
    "plt.figure(figsize=(8,4))\n",
    "sns.swarmplot(tod['Fare'],color='#6A7358')\n",
    "plt.title(\"Far ditribution\")\n",
    "plt.show()"
   ]
  },
  {
   "cell_type": "markdown",
   "metadata": {},
   "source": [
    "###  <span style='font-family:comic Sans MS; color:navy'>Port of Embarkation:</span>\n",
    "<div>\n"
   ]
  },
  {
   "cell_type": "code",
   "execution_count": null,
   "metadata": {
    "execution": {
     "iopub.execute_input": "2023-02-18T00:04:25.171004Z",
     "iopub.status.busy": "2023-02-18T00:04:25.169735Z",
     "iopub.status.idle": "2023-02-18T00:04:25.425124Z",
     "shell.execute_reply": "2023-02-18T00:04:25.423954Z",
     "shell.execute_reply.started": "2023-02-18T00:04:25.170919Z"
    }
   },
   "outputs": [],
   "source": [
    "plt.figure(figsize=(8,6))\n",
    "sns.countplot(x=tod['Embarked'])\n",
    "sns.set_style('whitegrid')\n",
    "plt.xlabel('C=Cherbourg,     Q=Queenstown,    S=Southampton')\n",
    "plt.title('Port of Embarkation')\n",
    "plt.show()"
   ]
  },
  {
   "cell_type": "markdown",
   "metadata": {},
   "source": [
    "###  <span style='font-family:comic Sans MS; color:navy'>Which class of people was more saved or drowned?:</span>\n",
    "<div>"
   ]
  },
  {
   "cell_type": "code",
   "execution_count": null,
   "metadata": {
    "execution": {
     "iopub.execute_input": "2023-02-18T00:04:25.427071Z",
     "iopub.status.busy": "2023-02-18T00:04:25.426461Z",
     "iopub.status.idle": "2023-02-18T00:04:25.690535Z",
     "shell.execute_reply": "2023-02-18T00:04:25.689260Z",
     "shell.execute_reply.started": "2023-02-18T00:04:25.427036Z"
    }
   },
   "outputs": [],
   "source": [
    "plt.figure(figsize=(8,6))\n",
    "sns.set_style('whitegrid')\n",
    "sns.countplot(data=tod, x=\"Pclass\", hue=\"Survived\")\n",
    "plt.xticks([0,1,2],['1st','2nd','3rd'])\n",
    "plt.title(\"Class and Survive\")\n",
    "plt.show()"
   ]
  },
  {
   "cell_type": "markdown",
   "metadata": {},
   "source": [
    "- <span style='font-family:comic Sans MS; color:navy'>Pclass has negative correlation because Pclass is numbered 1, 2, 3 (high, medium, low), but results to an invers survivability (class 3 = lower chance to survive, class 1 = higher chance)</span>"
   ]
  },
  {
   "cell_type": "markdown",
   "metadata": {},
   "source": [
    "###  <span style='font-family:comic Sans MS; color:navy'>From which gender class are more saved or died?:</span>\n",
    "<div>"
   ]
  },
  {
   "cell_type": "code",
   "execution_count": null,
   "metadata": {
    "execution": {
     "iopub.execute_input": "2023-02-18T00:04:25.692858Z",
     "iopub.status.busy": "2023-02-18T00:04:25.692365Z",
     "iopub.status.idle": "2023-02-18T00:04:25.935037Z",
     "shell.execute_reply": "2023-02-18T00:04:25.933362Z",
     "shell.execute_reply.started": "2023-02-18T00:04:25.692820Z"
    }
   },
   "outputs": [],
   "source": [
    "plt.figure(figsize=(8,6))\n",
    "sns.set_style('whitegrid')\n",
    "sns.countplot(data=tod, x=\"Sex\", hue=\"Survived\")\n",
    "plt.title(\"Gender Vs Survive\")\n",
    "plt.show()"
   ]
  },
  {
   "cell_type": "markdown",
   "metadata": {},
   "source": [
    "###  <span style='font-family:comic Sans MS; color:navy'>Age and their Class:</span>\n",
    "<div>"
   ]
  },
  {
   "cell_type": "code",
   "execution_count": null,
   "metadata": {
    "execution": {
     "iopub.execute_input": "2023-02-18T00:04:25.938117Z",
     "iopub.status.busy": "2023-02-18T00:04:25.936840Z",
     "iopub.status.idle": "2023-02-18T00:04:26.207225Z",
     "shell.execute_reply": "2023-02-18T00:04:26.205935Z",
     "shell.execute_reply.started": "2023-02-18T00:04:25.938071Z"
    }
   },
   "outputs": [],
   "source": [
    "plt.figure(figsize=(8,6))\n",
    "sns.set_style('whitegrid')\n",
    "sns.boxplot(x='Pclass',y='Age',data=tod)\n",
    "plt.title(\"Class Vs Age\")\n",
    "plt.show()"
   ]
  },
  {
   "cell_type": "code",
   "execution_count": null,
   "metadata": {
    "execution": {
     "iopub.execute_input": "2023-02-18T00:04:26.209818Z",
     "iopub.status.busy": "2023-02-18T00:04:26.208730Z",
     "iopub.status.idle": "2023-02-18T00:04:35.355571Z",
     "shell.execute_reply": "2023-02-18T00:04:35.354437Z",
     "shell.execute_reply.started": "2023-02-18T00:04:26.209767Z"
    }
   },
   "outputs": [],
   "source": [
    "plt.figure(figsize=(8,6))\n",
    "swarm = sns.swarmplot(data=tod, x='Survived', y='Fare',)\n",
    "sns.violinplot(data=tod, x='Survived', y='Fare', ax=swarm)\n",
    "plt.title('Fare Vs Sruvive')\n",
    "plt.show()"
   ]
  },
  {
   "cell_type": "markdown",
   "metadata": {},
   "source": [
    "###  <span style='font-family:comic Sans MS; color:navy'>From which class to survive more, by distinguishing male and female and there Age:</span>\n",
    "<div>"
   ]
  },
  {
   "cell_type": "code",
   "execution_count": null,
   "metadata": {
    "execution": {
     "iopub.execute_input": "2023-02-18T00:04:35.358004Z",
     "iopub.status.busy": "2023-02-18T00:04:35.357224Z",
     "iopub.status.idle": "2023-02-18T00:04:40.323901Z",
     "shell.execute_reply": "2023-02-18T00:04:40.322769Z",
     "shell.execute_reply.started": "2023-02-18T00:04:35.357944Z"
    }
   },
   "outputs": [],
   "source": [
    "sns.catplot(\n",
    "    data=tod, kind=\"swarm\",\n",
    "    x='Sex', y='Age', hue=\"Survived\", col=\"Pclass\",\n",
    "    aspect=.7\n",
    ")\n",
    "plt.show()"
   ]
  },
  {
   "cell_type": "markdown",
   "metadata": {},
   "source": [
    "## <span style=\"font-family:Comic Sans MS; color:navy\"><h4>6.1:correlatin</h4></span>"
   ]
  },
  {
   "cell_type": "code",
   "execution_count": null,
   "metadata": {
    "execution": {
     "iopub.execute_input": "2023-02-18T00:04:40.325705Z",
     "iopub.status.busy": "2023-02-18T00:04:40.325350Z",
     "iopub.status.idle": "2023-02-18T00:04:40.765397Z",
     "shell.execute_reply": "2023-02-18T00:04:40.764289Z",
     "shell.execute_reply.started": "2023-02-18T00:04:40.325673Z"
    }
   },
   "outputs": [],
   "source": [
    "plt.figure(figsize=(8,6))\n",
    "sns.heatmap(tod.corr(),annot=True)\n",
    "plt.show()"
   ]
  },
  {
   "cell_type": "markdown",
   "metadata": {},
   "source": [
    "### <span style=\"font-family:Comic Sans MS; color:navy\"><h4>6.1.1:Unprocessed data correlation</h4></span>"
   ]
  },
  {
   "cell_type": "code",
   "execution_count": null,
   "metadata": {
    "execution": {
     "iopub.execute_input": "2023-02-18T00:04:40.767918Z",
     "iopub.status.busy": "2023-02-18T00:04:40.767140Z",
     "iopub.status.idle": "2023-02-18T00:04:40.778238Z",
     "shell.execute_reply": "2023-02-18T00:04:40.777137Z",
     "shell.execute_reply.started": "2023-02-18T00:04:40.767872Z"
    }
   },
   "outputs": [],
   "source": [
    "tod.corr()['Survived'].sort_values(ascending=False)"
   ]
  },
  {
   "cell_type": "markdown",
   "metadata": {},
   "source": [
    "- <span style=\"font-family:Comic Sans MS; color:navy\"><h5>As we can see, Fare and PClass have the highest correlation with Survived, it seems higher class (also higher Fare) had priority to embark the lifeboats</h5></span>"
   ]
  },
  {
   "cell_type": "markdown",
   "metadata": {},
   "source": [
    "## <span style=\"font-family:Comic Sans MS; color:navy\"><h4>6.2:Pairplot</h4></span>"
   ]
  },
  {
   "cell_type": "code",
   "execution_count": null,
   "metadata": {
    "execution": {
     "iopub.execute_input": "2023-02-18T00:04:40.779845Z",
     "iopub.status.busy": "2023-02-18T00:04:40.779481Z",
     "iopub.status.idle": "2023-02-18T00:04:48.233623Z",
     "shell.execute_reply": "2023-02-18T00:04:48.232337Z",
     "shell.execute_reply.started": "2023-02-18T00:04:40.779815Z"
    }
   },
   "outputs": [],
   "source": [
    "sns.pairplot(hue='Survived',data=tod)\n",
    "plt.show()"
   ]
  },
  {
   "cell_type": "markdown",
   "metadata": {},
   "source": [
    "# <span style=\"font-family:Comic Sans MS; color:navy\"><h4>7:Modeling</h4></span>\n",
    "- <span style='font-family:comic Sans MS; color:navy'>In this challenge, we ask you to complete the analysis of what sorts of people were likely to survive. In particular, we ask you to apply the tools of machine learning to predict which passengers survived the tragedy</span>"
   ]
  },
  {
   "cell_type": "code",
   "execution_count": null,
   "metadata": {
    "execution": {
     "iopub.execute_input": "2023-02-18T00:04:48.235522Z",
     "iopub.status.busy": "2023-02-18T00:04:48.235151Z",
     "iopub.status.idle": "2023-02-18T00:04:48.248513Z",
     "shell.execute_reply": "2023-02-18T00:04:48.247167Z",
     "shell.execute_reply.started": "2023-02-18T00:04:48.235489Z"
    }
   },
   "outputs": [],
   "source": [
    "sex = pd.get_dummies(tod['Sex'],drop_first=True)\n",
    "embark = pd.get_dummies(tod['Embarked'],drop_first=True)\n",
    "pclass = pd.get_dummies(tod['Pclass'])\n",
    "sex_test = pd.get_dummies(tod_test['Sex'],drop_first=True)\n",
    "embark_test = pd.get_dummies(tod_test['Embarked'],drop_first=True)\n",
    "pclass_test = pd.get_dummies(tod_test['Pclass'])"
   ]
  },
  {
   "cell_type": "code",
   "execution_count": null,
   "metadata": {
    "execution": {
     "iopub.execute_input": "2023-02-18T00:04:48.250670Z",
     "iopub.status.busy": "2023-02-18T00:04:48.250093Z",
     "iopub.status.idle": "2023-02-18T00:04:48.278933Z",
     "shell.execute_reply": "2023-02-18T00:04:48.277794Z",
     "shell.execute_reply.started": "2023-02-18T00:04:48.250613Z"
    }
   },
   "outputs": [],
   "source": [
    "tod =pd.concat([tod,sex,embark],axis=1)\n",
    "tod_test =pd.concat([tod_test,sex_test,embark_test],axis=1)\n",
    "tod.head()"
   ]
  },
  {
   "cell_type": "code",
   "execution_count": null,
   "metadata": {
    "execution": {
     "iopub.execute_input": "2023-02-18T00:04:48.281338Z",
     "iopub.status.busy": "2023-02-18T00:04:48.280599Z",
     "iopub.status.idle": "2023-02-18T00:04:48.302905Z",
     "shell.execute_reply": "2023-02-18T00:04:48.301699Z",
     "shell.execute_reply.started": "2023-02-18T00:04:48.281293Z"
    }
   },
   "outputs": [],
   "source": [
    "tod.drop(['Name',\"Sex\",\"Embarked\"],axis=1,inplace=True)\n",
    "tod_test.drop(['Name',\"Sex\",\"Embarked\"],axis=1,inplace=True)\n",
    "tod.head()"
   ]
  },
  {
   "cell_type": "code",
   "execution_count": null,
   "metadata": {
    "execution": {
     "iopub.execute_input": "2023-02-18T00:04:48.305100Z",
     "iopub.status.busy": "2023-02-18T00:04:48.304570Z",
     "iopub.status.idle": "2023-02-18T00:04:48.314393Z",
     "shell.execute_reply": "2023-02-18T00:04:48.313574Z",
     "shell.execute_reply.started": "2023-02-18T00:04:48.305057Z"
    }
   },
   "outputs": [],
   "source": [
    "x= tod.drop('Survived',axis=1)\n",
    "y= tod['Survived'] #trying to predict\n",
    "# split\n",
    "x_train, x_test, y_train, y_test = train_test_split(x, y, test_size=0.3, random_state=101)"
   ]
  },
  {
   "cell_type": "code",
   "execution_count": null,
   "metadata": {
    "execution": {
     "iopub.execute_input": "2023-02-18T00:04:48.316783Z",
     "iopub.status.busy": "2023-02-18T00:04:48.315682Z",
     "iopub.status.idle": "2023-02-18T00:04:48.359921Z",
     "shell.execute_reply": "2023-02-18T00:04:48.359132Z",
     "shell.execute_reply.started": "2023-02-18T00:04:48.316737Z"
    }
   },
   "outputs": [],
   "source": [
    "lg = LogisticRegression()\n",
    "lg.fit(x_train,y_train)"
   ]
  },
  {
   "cell_type": "code",
   "execution_count": null,
   "metadata": {
    "execution": {
     "iopub.execute_input": "2023-02-18T00:04:48.361697Z",
     "iopub.status.busy": "2023-02-18T00:04:48.360957Z",
     "iopub.status.idle": "2023-02-18T00:04:48.369597Z",
     "shell.execute_reply": "2023-02-18T00:04:48.368698Z",
     "shell.execute_reply.started": "2023-02-18T00:04:48.361664Z"
    }
   },
   "outputs": [],
   "source": [
    "predict = lg.predict(x_test)\n",
    "predict[:40]"
   ]
  },
  {
   "cell_type": "markdown",
   "metadata": {},
   "source": [
    "# <span style=\"font-family:Comic Sans MS; color:navy\"><h4>8:Model Evaluation</h4></span>\n",
    "- **<span style='font-family:comic Sans MS; color:navy'>Once we create the model. It is very important to evaluate the accuracy of the model to understand whether it is important to implement it or not</span>**\n"
   ]
  },
  {
   "cell_type": "code",
   "execution_count": null,
   "metadata": {
    "execution": {
     "iopub.execute_input": "2023-02-18T00:04:48.372706Z",
     "iopub.status.busy": "2023-02-18T00:04:48.371967Z",
     "iopub.status.idle": "2023-02-18T00:04:48.389631Z",
     "shell.execute_reply": "2023-02-18T00:04:48.388401Z",
     "shell.execute_reply.started": "2023-02-18T00:04:48.372659Z"
    }
   },
   "outputs": [],
   "source": [
    "rpt = classification_report(y_test,predict)\n",
    "print(rpt)"
   ]
  },
  {
   "cell_type": "code",
   "execution_count": null,
   "metadata": {
    "execution": {
     "iopub.execute_input": "2023-02-18T00:04:48.394956Z",
     "iopub.status.busy": "2023-02-18T00:04:48.394608Z",
     "iopub.status.idle": "2023-02-18T00:04:48.404333Z",
     "shell.execute_reply": "2023-02-18T00:04:48.403248Z",
     "shell.execute_reply.started": "2023-02-18T00:04:48.394926Z"
    }
   },
   "outputs": [],
   "source": [
    "# Score\n",
    "score=lg.score(x_train,y_train)\n",
    "score"
   ]
  },
  {
   "cell_type": "code",
   "execution_count": null,
   "metadata": {
    "execution": {
     "iopub.execute_input": "2023-02-18T00:04:48.406547Z",
     "iopub.status.busy": "2023-02-18T00:04:48.405728Z",
     "iopub.status.idle": "2023-02-18T00:04:48.416055Z",
     "shell.execute_reply": "2023-02-18T00:04:48.414912Z",
     "shell.execute_reply.started": "2023-02-18T00:04:48.406512Z"
    }
   },
   "outputs": [],
   "source": [
    "# Confusion Matrix\n",
    "confusion_matrix(y_test,predict)"
   ]
  },
  {
   "cell_type": "code",
   "execution_count": null,
   "metadata": {
    "execution": {
     "iopub.execute_input": "2023-02-18T00:04:48.418219Z",
     "iopub.status.busy": "2023-02-18T00:04:48.417786Z",
     "iopub.status.idle": "2023-02-18T00:04:48.705244Z",
     "shell.execute_reply": "2023-02-18T00:04:48.704029Z",
     "shell.execute_reply.started": "2023-02-18T00:04:48.418177Z"
    }
   },
   "outputs": [],
   "source": [
    "from sklearn.metrics import roc_auc_score\n",
    "from sklearn.metrics import roc_curve\n",
    "logit_roc_auc = roc_auc_score(y_test,lg.predict(x_test))\n",
    "fpr, tpr , thersholds = roc_curve(y_test,lg.predict_proba(x_test)[:,1])\n",
    "plt.figure(figsize=(8,6))\n",
    "plt.plot(fpr,tpr,label = 'Logistic Regression (area = %0.2F)' % logit_roc_auc)\n",
    "plt.plot([0,1],[0,1],'r--')\n",
    "plt.xlabel('False Positive Rate')\n",
    "plt.ylabel('True Positive Rate')\n",
    "plt.title('ROC curve')\n",
    "plt.show()"
   ]
  },
  {
   "cell_type": "markdown",
   "metadata": {},
   "source": [
    "- **<span style='font-family:comic Sans MS; color:navy'>If the TPR is closer to 1 that shows that it is a very good model. The model is able to distinguish between positive and negative outcomes correctly.</span>**\n",
    "- **<span style='font-family:comic Sans MS; color:navy'>If the TPR is 0.5, it shows that the model is as good as a guess.</span>**\n",
    "- **<span style='font-family:comic Sans MS; color:navy'>If the TPR is below 0.5, it shows that the model is predicting positive values as negative and negative values as positive</span>**\n"
   ]
  },
  {
   "cell_type": "code",
   "execution_count": null,
   "metadata": {
    "execution": {
     "iopub.execute_input": "2023-02-18T00:04:48.707100Z",
     "iopub.status.busy": "2023-02-18T00:04:48.706698Z",
     "iopub.status.idle": "2023-02-18T00:04:48.722209Z",
     "shell.execute_reply": "2023-02-18T00:04:48.721035Z",
     "shell.execute_reply.started": "2023-02-18T00:04:48.707067Z"
    }
   },
   "outputs": [],
   "source": [
    "# predict\n",
    "lg_predict = lg.predict(tod_test)\n",
    "\n",
    "submission = pd.DataFrame({\n",
    "    \"PassengerId\": tod_test.index,\n",
    "    \"Survived\": lg_predict\n",
    "})\n",
    "submission"
   ]
  },
  {
   "cell_type": "code",
   "execution_count": null,
   "metadata": {
    "execution": {
     "iopub.execute_input": "2023-02-18T00:04:48.724920Z",
     "iopub.status.busy": "2023-02-18T00:04:48.723671Z",
     "iopub.status.idle": "2023-02-18T00:04:48.736324Z",
     "shell.execute_reply": "2023-02-18T00:04:48.735342Z",
     "shell.execute_reply.started": "2023-02-18T00:04:48.724872Z"
    }
   },
   "outputs": [],
   "source": [
    "submission.to_csv('./submission.csv', index=False)"
   ]
  },
  {
   "cell_type": "markdown",
   "metadata": {},
   "source": [
    "<center>\n",
    "<span style=\"font-family:Comic Sans MS; color:red\"><h2>Thank You😊</h2></span>\n",
    "</center>"
   ]
  }
 ],
 "metadata": {
  "kernelspec": {
   "display_name": "Python 3",
   "language": "python",
   "name": "python3"
  },
  "language_info": {
   "codemirror_mode": {
    "name": "ipython",
    "version": 3
   },
   "file_extension": ".py",
   "mimetype": "text/x-python",
   "name": "python",
   "nbconvert_exporter": "python",
   "pygments_lexer": "ipython3",
   "version": "3.8.3"
  }
 },
 "nbformat": 4,
 "nbformat_minor": 4
}
