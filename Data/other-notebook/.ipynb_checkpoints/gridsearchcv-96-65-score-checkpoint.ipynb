{
 "cells": [
  {
   "cell_type": "markdown",
   "metadata": {
    "papermill": {
     "duration": 0.009591,
     "end_time": "2023-02-07T15:49:46.328937",
     "exception": false,
     "start_time": "2023-02-07T15:49:46.319346",
     "status": "completed"
    },
    "tags": []
   },
   "source": [
    "![](https://img5tv.cdnvideo.ru/webp/shared/files/202104/1_1300734.jpg)"
   ]
  },
  {
   "cell_type": "code",
   "execution_count": 1,
   "metadata": {
    "execution": {
     "iopub.execute_input": "2023-02-07T15:49:46.346015Z",
     "iopub.status.busy": "2023-02-07T15:49:46.345259Z",
     "iopub.status.idle": "2023-02-07T15:49:46.356547Z",
     "shell.execute_reply": "2023-02-07T15:49:46.355673Z"
    },
    "papermill": {
     "duration": 0.022618,
     "end_time": "2023-02-07T15:49:46.358932",
     "exception": false,
     "start_time": "2023-02-07T15:49:46.336314",
     "status": "completed"
    },
    "tags": []
   },
   "outputs": [],
   "source": [
    "import pandas as pd\n",
    "import matplotlib.pyplot as plt"
   ]
  },
  {
   "cell_type": "code",
   "execution_count": 2,
   "metadata": {
    "execution": {
     "iopub.execute_input": "2023-02-07T15:49:46.373771Z",
     "iopub.status.busy": "2023-02-07T15:49:46.373060Z",
     "iopub.status.idle": "2023-02-07T15:49:46.419668Z",
     "shell.execute_reply": "2023-02-07T15:49:46.418329Z"
    },
    "papermill": {
     "duration": 0.057352,
     "end_time": "2023-02-07T15:49:46.422707",
     "exception": false,
     "start_time": "2023-02-07T15:49:46.365355",
     "status": "completed"
    },
    "tags": []
   },
   "outputs": [],
   "source": [
    "titanic_train = pd.read_csv(r'/kaggle/input/titanic/train.csv')\n",
    "titanic_test = pd.read_csv(r'/kaggle/input/titanic/test.csv')\n",
    "y_test = pd.read_csv(r'/kaggle/input/titanic/gender_submission.csv')"
   ]
  },
  {
   "cell_type": "markdown",
   "metadata": {
    "papermill": {
     "duration": 0.00602,
     "end_time": "2023-02-07T15:49:46.435210",
     "exception": false,
     "start_time": "2023-02-07T15:49:46.429190",
     "status": "completed"
    },
    "tags": []
   },
   "source": [
    "## EDA"
   ]
  },
  {
   "cell_type": "code",
   "execution_count": 3,
   "metadata": {
    "execution": {
     "iopub.execute_input": "2023-02-07T15:49:46.450203Z",
     "iopub.status.busy": "2023-02-07T15:49:46.449355Z",
     "iopub.status.idle": "2023-02-07T15:49:46.464086Z",
     "shell.execute_reply": "2023-02-07T15:49:46.462807Z"
    },
    "papermill": {
     "duration": 0.026045,
     "end_time": "2023-02-07T15:49:46.467680",
     "exception": false,
     "start_time": "2023-02-07T15:49:46.441635",
     "status": "completed"
    },
    "tags": []
   },
   "outputs": [
    {
     "name": "stdout",
     "output_type": "stream",
     "text": [
      "PassengerId     0.00\n",
      "Survived        0.00\n",
      "Pclass          0.00\n",
      "Name            0.00\n",
      "Sex             0.00\n",
      "Age            19.87\n",
      "SibSp           0.00\n",
      "Parch           0.00\n",
      "Ticket          0.00\n",
      "Fare            0.00\n",
      "Cabin          77.10\n",
      "Embarked        0.22\n",
      "dtype: float64\n",
      "PassengerId     0.00\n",
      "Pclass          0.00\n",
      "Name            0.00\n",
      "Sex             0.00\n",
      "Age            20.57\n",
      "SibSp           0.00\n",
      "Parch           0.00\n",
      "Ticket          0.00\n",
      "Fare            0.24\n",
      "Cabin          78.23\n",
      "Embarked        0.00\n",
      "dtype: float64\n"
     ]
    }
   ],
   "source": [
    "print((titanic_train.isna().mean() * 100).round(2))\n",
    "print((titanic_test.isna().mean() * 100).round(2))"
   ]
  },
  {
   "cell_type": "code",
   "execution_count": 4,
   "metadata": {
    "execution": {
     "iopub.execute_input": "2023-02-07T15:49:46.485202Z",
     "iopub.status.busy": "2023-02-07T15:49:46.484536Z",
     "iopub.status.idle": "2023-02-07T15:49:46.524705Z",
     "shell.execute_reply": "2023-02-07T15:49:46.523219Z"
    },
    "papermill": {
     "duration": 0.051673,
     "end_time": "2023-02-07T15:49:46.527831",
     "exception": false,
     "start_time": "2023-02-07T15:49:46.476158",
     "status": "completed"
    },
    "tags": []
   },
   "outputs": [
    {
     "name": "stdout",
     "output_type": "stream",
     "text": [
      "<class 'pandas.core.frame.DataFrame'>\n",
      "Int64Index: 1309 entries, 0 to 417\n",
      "Data columns (total 12 columns):\n",
      " #   Column       Non-Null Count  Dtype  \n",
      "---  ------       --------------  -----  \n",
      " 0   PassengerId  1309 non-null   int64  \n",
      " 1   Survived     891 non-null    float64\n",
      " 2   Pclass       1309 non-null   int64  \n",
      " 3   Name         1309 non-null   object \n",
      " 4   Sex          1309 non-null   object \n",
      " 5   Age          1046 non-null   float64\n",
      " 6   SibSp        1309 non-null   int64  \n",
      " 7   Parch        1309 non-null   int64  \n",
      " 8   Ticket       1309 non-null   object \n",
      " 9   Fare         1308 non-null   float64\n",
      " 10  Cabin        295 non-null    object \n",
      " 11  Embarked     1307 non-null   object \n",
      "dtypes: float64(3), int64(4), object(5)\n",
      "memory usage: 132.9+ KB\n"
     ]
    }
   ],
   "source": [
    "data = pd.concat([titanic_train, titanic_test], axis=0)\n",
    "data.info()"
   ]
  },
  {
   "cell_type": "markdown",
   "metadata": {
    "papermill": {
     "duration": 0.00627,
     "end_time": "2023-02-07T15:49:46.540886",
     "exception": false,
     "start_time": "2023-02-07T15:49:46.534616",
     "status": "completed"
    },
    "tags": []
   },
   "source": [
    "## PREPARE DATA FOR MODELING "
   ]
  },
  {
   "cell_type": "code",
   "execution_count": 5,
   "metadata": {
    "execution": {
     "iopub.execute_input": "2023-02-07T15:49:46.556297Z",
     "iopub.status.busy": "2023-02-07T15:49:46.555881Z",
     "iopub.status.idle": "2023-02-07T15:49:46.572482Z",
     "shell.execute_reply": "2023-02-07T15:49:46.570270Z"
    },
    "papermill": {
     "duration": 0.027981,
     "end_time": "2023-02-07T15:49:46.575368",
     "exception": false,
     "start_time": "2023-02-07T15:49:46.547387",
     "status": "completed"
    },
    "tags": []
   },
   "outputs": [
    {
     "name": "stdout",
     "output_type": "stream",
     "text": [
      "Train: Sex     Pclass\n",
      "female  1         36.0\n",
      "        2         28.0\n",
      "        3         22.0\n",
      "male    1         42.0\n",
      "        2         29.5\n",
      "        3         25.0\n",
      "Name: Age, dtype: float64\n"
     ]
    }
   ],
   "source": [
    "print('Train:', data.groupby(['Sex', 'Pclass'])['Age'].median())\n",
    "data['Age'] = data['Age'].fillna(data.groupby(['Sex', 'Pclass'])['Age'].transform('median'))"
   ]
  },
  {
   "cell_type": "code",
   "execution_count": 6,
   "metadata": {
    "execution": {
     "iopub.execute_input": "2023-02-07T15:49:46.590931Z",
     "iopub.status.busy": "2023-02-07T15:49:46.590228Z",
     "iopub.status.idle": "2023-02-07T15:49:46.603441Z",
     "shell.execute_reply": "2023-02-07T15:49:46.601988Z"
    },
    "papermill": {
     "duration": 0.024287,
     "end_time": "2023-02-07T15:49:46.606320",
     "exception": false,
     "start_time": "2023-02-07T15:49:46.582033",
     "status": "completed"
    },
    "tags": []
   },
   "outputs": [],
   "source": [
    "data['Embarked'] = data['Embarked'].fillna(data['Embarked'].mode()[0])\n",
    "data['Fare'] = data['Fare'].fillna(data['Fare'].median())"
   ]
  },
  {
   "cell_type": "code",
   "execution_count": 7,
   "metadata": {
    "execution": {
     "iopub.execute_input": "2023-02-07T15:49:46.624441Z",
     "iopub.status.busy": "2023-02-07T15:49:46.623137Z",
     "iopub.status.idle": "2023-02-07T15:49:46.642104Z",
     "shell.execute_reply": "2023-02-07T15:49:46.640634Z"
    },
    "papermill": {
     "duration": 0.0324,
     "end_time": "2023-02-07T15:49:46.645282",
     "exception": false,
     "start_time": "2023-02-07T15:49:46.612882",
     "status": "completed"
    },
    "tags": []
   },
   "outputs": [
    {
     "data": {
      "text/plain": [
       "PassengerId     0.00\n",
       "Survived       31.93\n",
       "Pclass          0.00\n",
       "Name            0.00\n",
       "Sex             0.00\n",
       "Age             0.00\n",
       "SibSp           0.00\n",
       "Parch           0.00\n",
       "Ticket          0.00\n",
       "Fare            0.00\n",
       "Cabin          77.46\n",
       "Embarked        0.00\n",
       "dtype: float64"
      ]
     },
     "execution_count": 7,
     "metadata": {},
     "output_type": "execute_result"
    }
   ],
   "source": [
    "(data.isna().mean() * 100).round(2)"
   ]
  },
  {
   "cell_type": "markdown",
   "metadata": {
    "papermill": {
     "duration": 0.00803,
     "end_time": "2023-02-07T15:49:46.663876",
     "exception": false,
     "start_time": "2023-02-07T15:49:46.655846",
     "status": "completed"
    },
    "tags": []
   },
   "source": [
    "Let's remove the feature of the passenger's cabin, since there are 77% of gaps in this column, it is difficult to imagine an analytical task in which the cabin number can be important. 77% of passes is a lot."
   ]
  },
  {
   "cell_type": "code",
   "execution_count": 8,
   "metadata": {
    "execution": {
     "iopub.execute_input": "2023-02-07T15:49:46.684662Z",
     "iopub.status.busy": "2023-02-07T15:49:46.683758Z",
     "iopub.status.idle": "2023-02-07T15:49:46.700623Z",
     "shell.execute_reply": "2023-02-07T15:49:46.698410Z"
    },
    "papermill": {
     "duration": 0.032586,
     "end_time": "2023-02-07T15:49:46.703920",
     "exception": false,
     "start_time": "2023-02-07T15:49:46.671334",
     "status": "completed"
    },
    "tags": []
   },
   "outputs": [],
   "source": [
    "black_list = ['PassengerId', 'Survived', 'Cabin'] # delete this features \n",
    "dummies = ['Sex','Embarked', 'Pclass','SibSp','Parch']\n",
    "continious = ['Age', 'Ticket', 'Fare','Name']\n",
    "target = ['Survived']"
   ]
  },
  {
   "cell_type": "code",
   "execution_count": 9,
   "metadata": {
    "execution": {
     "iopub.execute_input": "2023-02-07T15:49:46.721034Z",
     "iopub.status.busy": "2023-02-07T15:49:46.720022Z",
     "iopub.status.idle": "2023-02-07T15:49:46.730238Z",
     "shell.execute_reply": "2023-02-07T15:49:46.729116Z"
    },
    "papermill": {
     "duration": 0.021755,
     "end_time": "2023-02-07T15:49:46.733486",
     "exception": false,
     "start_time": "2023-02-07T15:49:46.711731",
     "status": "completed"
    },
    "tags": []
   },
   "outputs": [],
   "source": [
    "data['Name'] = data['Name'].apply(lambda x: x.split(', ')[1].split('. ')[0])"
   ]
  },
  {
   "cell_type": "code",
   "execution_count": 10,
   "metadata": {
    "execution": {
     "iopub.execute_input": "2023-02-07T15:49:46.750161Z",
     "iopub.status.busy": "2023-02-07T15:49:46.749085Z",
     "iopub.status.idle": "2023-02-07T15:49:46.757522Z",
     "shell.execute_reply": "2023-02-07T15:49:46.756399Z"
    },
    "papermill": {
     "duration": 0.019552,
     "end_time": "2023-02-07T15:49:46.760211",
     "exception": false,
     "start_time": "2023-02-07T15:49:46.740659",
     "status": "completed"
    },
    "tags": []
   },
   "outputs": [
    {
     "data": {
      "text/plain": [
       "array(['Mr', 'Mrs', 'Miss', 'Master', 'Don', 'Rev', 'Dr', 'Mme', 'Ms',\n",
       "       'Major', 'Lady', 'Sir', 'Mlle', 'Col', 'Capt', 'the Countess',\n",
       "       'Jonkheer', 'Dona'], dtype=object)"
      ]
     },
     "execution_count": 10,
     "metadata": {},
     "output_type": "execute_result"
    }
   ],
   "source": [
    "data['Name'].unique()"
   ]
  },
  {
   "cell_type": "code",
   "execution_count": 11,
   "metadata": {
    "execution": {
     "iopub.execute_input": "2023-02-07T15:49:46.776862Z",
     "iopub.status.busy": "2023-02-07T15:49:46.776276Z",
     "iopub.status.idle": "2023-02-07T15:49:48.030908Z",
     "shell.execute_reply": "2023-02-07T15:49:48.029674Z"
    },
    "papermill": {
     "duration": 1.266337,
     "end_time": "2023-02-07T15:49:48.033717",
     "exception": false,
     "start_time": "2023-02-07T15:49:46.767380",
     "status": "completed"
    },
    "tags": []
   },
   "outputs": [],
   "source": [
    "from sklearn.preprocessing import LabelEncoder\n",
    "le = LabelEncoder()\n",
    "\n",
    "data['Ticket'] = le.fit_transform(data['Ticket'])\n",
    "data['Name'] = le.fit_transform(data['Name'])"
   ]
  },
  {
   "cell_type": "code",
   "execution_count": 12,
   "metadata": {
    "execution": {
     "iopub.execute_input": "2023-02-07T15:49:48.049246Z",
     "iopub.status.busy": "2023-02-07T15:49:48.048779Z",
     "iopub.status.idle": "2023-02-07T15:49:48.063886Z",
     "shell.execute_reply": "2023-02-07T15:49:48.062715Z"
    },
    "papermill": {
     "duration": 0.02631,
     "end_time": "2023-02-07T15:49:48.066833",
     "exception": false,
     "start_time": "2023-02-07T15:49:48.040523",
     "status": "completed"
    },
    "tags": []
   },
   "outputs": [],
   "source": [
    "X = pd.concat([data[continious],pd.get_dummies(data[dummies])],axis=1)"
   ]
  },
  {
   "cell_type": "code",
   "execution_count": 13,
   "metadata": {
    "execution": {
     "iopub.execute_input": "2023-02-07T15:49:48.083487Z",
     "iopub.status.busy": "2023-02-07T15:49:48.083077Z",
     "iopub.status.idle": "2023-02-07T15:49:48.091022Z",
     "shell.execute_reply": "2023-02-07T15:49:48.089631Z"
    },
    "papermill": {
     "duration": 0.01884,
     "end_time": "2023-02-07T15:49:48.093395",
     "exception": false,
     "start_time": "2023-02-07T15:49:48.074555",
     "status": "completed"
    },
    "tags": []
   },
   "outputs": [],
   "source": [
    "X_train = X[:891]\n",
    "X_test = X[891:]\n",
    "y_train = data[target]['Survived'].dropna()\n",
    "y_test = y_test['Survived']"
   ]
  },
  {
   "cell_type": "markdown",
   "metadata": {
    "papermill": {
     "duration": 0.006589,
     "end_time": "2023-02-07T15:49:48.106853",
     "exception": false,
     "start_time": "2023-02-07T15:49:48.100264",
     "status": "completed"
    },
    "tags": []
   },
   "source": [
    "## MODEL TRANING"
   ]
  },
  {
   "cell_type": "code",
   "execution_count": 14,
   "metadata": {
    "execution": {
     "iopub.execute_input": "2023-02-07T15:49:48.121937Z",
     "iopub.status.busy": "2023-02-07T15:49:48.121524Z",
     "iopub.status.idle": "2023-02-07T15:49:48.454604Z",
     "shell.execute_reply": "2023-02-07T15:49:48.453566Z"
    },
    "papermill": {
     "duration": 0.343985,
     "end_time": "2023-02-07T15:49:48.457554",
     "exception": false,
     "start_time": "2023-02-07T15:49:48.113569",
     "status": "completed"
    },
    "tags": []
   },
   "outputs": [],
   "source": [
    "from sklearn.model_selection import GridSearchCV\n",
    "from sklearn.ensemble import RandomForestClassifier"
   ]
  },
  {
   "cell_type": "code",
   "execution_count": 15,
   "metadata": {
    "execution": {
     "iopub.execute_input": "2023-02-07T15:49:48.473986Z",
     "iopub.status.busy": "2023-02-07T15:49:48.473575Z",
     "iopub.status.idle": "2023-02-07T15:49:59.990795Z",
     "shell.execute_reply": "2023-02-07T15:49:59.989363Z"
    },
    "papermill": {
     "duration": 11.528281,
     "end_time": "2023-02-07T15:49:59.993382",
     "exception": false,
     "start_time": "2023-02-07T15:49:48.465101",
     "status": "completed"
    },
    "tags": []
   },
   "outputs": [
    {
     "name": "stdout",
     "output_type": "stream",
     "text": [
      "Fitting 3 folds for each of 120 candidates, totalling 360 fits\n"
     ]
    },
    {
     "data": {
      "text/plain": [
       "GridSearchCV(cv=3, estimator=RandomForestClassifier(), n_jobs=-1,\n",
       "             param_grid={'max_depth': [5, 10, 15, 20, 30],\n",
       "                         'min_samples_leaf': [1, 5, 10, 20],\n",
       "                         'n_estimators': [1, 5, 10, 20, 50, 100],\n",
       "                         'random_state': [42]},\n",
       "             verbose=1)"
      ]
     },
     "execution_count": 15,
     "metadata": {},
     "output_type": "execute_result"
    }
   ],
   "source": [
    "params = {'n_estimators':[1,5,10,20,50,100],\n",
    "          'max_depth':[5,10,15,20,30],\n",
    "          'min_samples_leaf':[1,5,10,20],\n",
    "          'random_state':[42]}\n",
    "\n",
    "y_train = y_train.astype(int)\n",
    "rf_grid = GridSearchCV(RandomForestClassifier(),param_grid=params,verbose=1,n_jobs=-1,cv=3)\n",
    "rf_grid.fit(X_train,y_train)"
   ]
  },
  {
   "cell_type": "code",
   "execution_count": 16,
   "metadata": {
    "execution": {
     "iopub.execute_input": "2023-02-07T15:50:00.009505Z",
     "iopub.status.busy": "2023-02-07T15:50:00.009081Z",
     "iopub.status.idle": "2023-02-07T15:50:09.411949Z",
     "shell.execute_reply": "2023-02-07T15:50:09.411197Z"
    },
    "papermill": {
     "duration": 9.41363,
     "end_time": "2023-02-07T15:50:09.414100",
     "exception": false,
     "start_time": "2023-02-07T15:50:00.000470",
     "status": "completed"
    },
    "tags": []
   },
   "outputs": [
    {
     "name": "stdout",
     "output_type": "stream",
     "text": [
      "Fitting 3 folds for each of 48 candidates, totalling 144 fits\n"
     ]
    },
    {
     "data": {
      "text/plain": [
       "GridSearchCV(cv=3, estimator=LogisticRegression(), n_jobs=-1,\n",
       "             param_grid={'C': [0.01, 0.1, 0.5, 1.0],\n",
       "                         'max_iter': [100, 500, 1000],\n",
       "                         'multi_class': ['multinomial'], 'n_jobs': [-1],\n",
       "                         'penalty': ['l2'],\n",
       "                         'solver': ['newton-cg', 'sag', 'saga', 'lbfgs']},\n",
       "             verbose=1)"
      ]
     },
     "execution_count": 16,
     "metadata": {},
     "output_type": "execute_result"
    }
   ],
   "source": [
    "from sklearn.linear_model import LogisticRegression\n",
    "params = {'penalty':['l2'],\n",
    "          'max_iter':[100,500,1000],\n",
    "          'multi_class':['multinomial'],\n",
    "          'n_jobs':[-1],\n",
    "          'C':[0.01,0.1,0.5,1.0],\n",
    "          'solver':['newton-cg','sag','saga','lbfgs']}\n",
    "lr_grid = GridSearchCV(LogisticRegression(),param_grid=params,verbose=1,n_jobs=-1,cv=3)\n",
    "lr_grid.fit(X_train,y_train)"
   ]
  },
  {
   "cell_type": "code",
   "execution_count": 17,
   "metadata": {
    "execution": {
     "iopub.execute_input": "2023-02-07T15:50:09.430610Z",
     "iopub.status.busy": "2023-02-07T15:50:09.429882Z",
     "iopub.status.idle": "2023-02-07T15:50:09.449533Z",
     "shell.execute_reply": "2023-02-07T15:50:09.448405Z"
    },
    "papermill": {
     "duration": 0.031315,
     "end_time": "2023-02-07T15:50:09.452541",
     "exception": false,
     "start_time": "2023-02-07T15:50:09.421226",
     "status": "completed"
    },
    "tags": []
   },
   "outputs": [],
   "source": [
    "rf_pred = rf_grid.predict(X_test)\n",
    "lr_pred = lr_grid.predict(X_test)"
   ]
  },
  {
   "cell_type": "code",
   "execution_count": 18,
   "metadata": {
    "execution": {
     "iopub.execute_input": "2023-02-07T15:50:09.468774Z",
     "iopub.status.busy": "2023-02-07T15:50:09.468355Z",
     "iopub.status.idle": "2023-02-07T15:50:09.498359Z",
     "shell.execute_reply": "2023-02-07T15:50:09.496866Z"
    },
    "papermill": {
     "duration": 0.041458,
     "end_time": "2023-02-07T15:50:09.501304",
     "exception": false,
     "start_time": "2023-02-07T15:50:09.459846",
     "status": "completed"
    },
    "tags": []
   },
   "outputs": [
    {
     "name": "stdout",
     "output_type": "stream",
     "text": [
      "ACCURACY  : RF=0.861, LR=0.967\n",
      "F1-SCORE  : RF=0.848, LR=0.964\n",
      "PRECISION : RF=0.853, LR=0.961\n",
      "RECALL    : RF=0.844, LR=0.968\n"
     ]
    }
   ],
   "source": [
    "from sklearn.metrics import accuracy_score, f1_score,precision_score,recall_score\n",
    "rf_pred = rf_grid.predict(X_test)\n",
    "lr_pred = lr_grid.predict(X_test)\n",
    "print (f\"ACCURACY  : RF={accuracy_score(y_test,rf_pred):.3f}, LR={accuracy_score(y_test,lr_pred):.3f}\")\n",
    "print (f\"F1-SCORE  : RF={f1_score(y_test,rf_pred,average='macro'):.3f}, LR={f1_score(y_test,lr_pred,average='macro'):.3f}\")\n",
    "print (f\"PRECISION : RF={precision_score(y_test,rf_pred,average='macro'):.3f}, LR={precision_score(y_test,lr_pred,average='macro'):.3f}\")\n",
    "print (f\"RECALL    : RF={recall_score(y_test,rf_pred,average='macro'):.3f}, LR={recall_score(y_test,lr_pred,average='macro'):.3f}\")"
   ]
  },
  {
   "cell_type": "markdown",
   "metadata": {
    "papermill": {
     "duration": 0.007298,
     "end_time": "2023-02-07T15:50:09.516350",
     "exception": false,
     "start_time": "2023-02-07T15:50:09.509052",
     "status": "completed"
    },
    "tags": []
   },
   "source": [
    "Logistic regression algorithm shows better perfomance accors all metrics => choose it"
   ]
  },
  {
   "cell_type": "code",
   "execution_count": 19,
   "metadata": {
    "execution": {
     "iopub.execute_input": "2023-02-07T15:50:09.532896Z",
     "iopub.status.busy": "2023-02-07T15:50:09.532478Z",
     "iopub.status.idle": "2023-02-07T15:50:09.542602Z",
     "shell.execute_reply": "2023-02-07T15:50:09.541135Z"
    },
    "papermill": {
     "duration": 0.021808,
     "end_time": "2023-02-07T15:50:09.545321",
     "exception": false,
     "start_time": "2023-02-07T15:50:09.523513",
     "status": "completed"
    },
    "tags": []
   },
   "outputs": [
    {
     "data": {
      "text/plain": [
       "array([[256,  10],\n",
       "       [  4, 148]])"
      ]
     },
     "execution_count": 19,
     "metadata": {},
     "output_type": "execute_result"
    }
   ],
   "source": [
    "from sklearn.metrics import confusion_matrix\n",
    "confusion_matrix(y_test,lr_pred)"
   ]
  },
  {
   "cell_type": "code",
   "execution_count": 20,
   "metadata": {
    "execution": {
     "iopub.execute_input": "2023-02-07T15:50:09.562255Z",
     "iopub.status.busy": "2023-02-07T15:50:09.561602Z",
     "iopub.status.idle": "2023-02-07T15:50:09.570167Z",
     "shell.execute_reply": "2023-02-07T15:50:09.569006Z"
    },
    "papermill": {
     "duration": 0.019663,
     "end_time": "2023-02-07T15:50:09.572543",
     "exception": false,
     "start_time": "2023-02-07T15:50:09.552880",
     "status": "completed"
    },
    "tags": []
   },
   "outputs": [
    {
     "data": {
      "text/plain": [
       "96.65071770334929"
      ]
     },
     "execution_count": 20,
     "metadata": {},
     "output_type": "execute_result"
    }
   ],
   "source": [
    "lr_pred = lr_pred.astype(int)\n",
    "accuracy_score(y_test, lr_pred)*100"
   ]
  },
  {
   "cell_type": "markdown",
   "metadata": {
    "papermill": {
     "duration": 0.006918,
     "end_time": "2023-02-07T15:50:09.586846",
     "exception": false,
     "start_time": "2023-02-07T15:50:09.579928",
     "status": "completed"
    },
    "tags": []
   },
   "source": [
    "### MODEL QUALITY - 96.65"
   ]
  }
 ],
 "metadata": {
  "kernelspec": {
   "display_name": "Python 3",
   "language": "python",
   "name": "python3"
  },
  "language_info": {
   "codemirror_mode": {
    "name": "ipython",
    "version": 3
   },
   "file_extension": ".py",
   "mimetype": "text/x-python",
   "name": "python",
   "nbconvert_exporter": "python",
   "pygments_lexer": "ipython3",
   "version": "3.8.3"
  },
  "papermill": {
   "default_parameters": {},
   "duration": 35.258969,
   "end_time": "2023-02-07T15:50:12.214887",
   "environment_variables": {},
   "exception": null,
   "input_path": "__notebook__.ipynb",
   "output_path": "__notebook__.ipynb",
   "parameters": {},
   "start_time": "2023-02-07T15:49:36.955918",
   "version": "2.3.4"
  }
 },
 "nbformat": 4,
 "nbformat_minor": 5
}
